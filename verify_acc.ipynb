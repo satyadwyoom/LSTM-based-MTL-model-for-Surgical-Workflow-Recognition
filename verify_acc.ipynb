{
 "cells": [
  {
   "cell_type": "markdown",
   "metadata": {},
   "source": [
    "## Load Libraries"
   ]
  },
  {
   "cell_type": "code",
   "execution_count": 49,
   "id": "independent-pursuit",
   "metadata": {},
   "outputs": [],
   "source": [
    "import pandas as pd"
   ]
  },
  {
   "cell_type": "markdown",
   "metadata": {},
   "source": [
    "## Load Generated and Ground Truth Output Files"
   ]
  },
  {
   "cell_type": "code",
   "execution_count": null,
   "metadata": {},
   "outputs": [],
   "source": [
    "Path_to_generated_procedural_description = './output/111.txt'\n",
    "Path_to_ground_truth_prcedural_description = './Procedural_description/111.txt'\n",
    "\n",
    "generated_output = pd.read_csv(Path_to_generated_procedural_description, sep = '\\t')\n",
    "ground_truth_output = pd.read_csv(Path_to_ground_truth_prcedural_description, sep = '\\t')"
   ]
  },
  {
   "cell_type": "markdown",
   "metadata": {},
   "source": [
    "## Generate Accuracies (For Different Granularities in a Surgical Workflow)"
   ]
  },
  {
   "cell_type": "code",
   "execution_count": 51,
   "id": "human-arctic",
   "metadata": {},
   "outputs": [],
   "source": [
    "total_predictions = len(generated_output)\n",
    "\n",
    "print('Phase Accuracy: {}'.format((generated_output['Phase'] == ground_truth_output['Phase']).sum()/total_predictions))\n",
    "print('Step Accuracy: {}'.format((generated_output['Step'] == ground_truth_output['Step']).sum()/total_predictions))\n",
    "print('Verb_Left Accuracy: {}'.format((generated_output['Verb_Left'] == ground_truth_output['Verb_Left']).sum()/total_predictions))\n",
    "print('Verb_Right Accuracy: {}'.format((generated_output['Verb_Right'] == ground_truth_output['Verb_Right']).sum()/total_predictions))\n"
   ]
  }
 ],
 "metadata": {
  "kernelspec": {
   "display_name": "me_jpy",
   "language": "python",
   "name": "me_jpy"
  },
  "language_info": {
   "codemirror_mode": {
    "name": "ipython",
    "version": 3
   },
   "file_extension": ".py",
   "mimetype": "text/x-python",
   "name": "python",
   "nbconvert_exporter": "python",
   "pygments_lexer": "ipython3",
   "version": "3.6.13"
  }
 },
 "nbformat": 4,
 "nbformat_minor": 5
}
